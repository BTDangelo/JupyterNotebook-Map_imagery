{
 "cells": [
  {
   "cell_type": "markdown",
   "metadata": {},
   "source": [
    "# Generate a Map Containing a Single Potential Structure\n",
    "##### This script generates a map image of potential structures. The script uses functions from the structureimagery script."
   ]
  },
  {
   "cell_type": "markdown",
   "metadata": {},
   "source": [
    "#### First the Python script that contains all of the functions necessary to run the Single Map Script is imported."
   ]
  },
  {
   "cell_type": "code",
   "execution_count": 45,
   "metadata": {},
   "outputs": [],
   "source": [
    "import structureimagery"
   ]
  },
  {
   "cell_type": "code",
   "execution_count": 51,
   "metadata": {},
   "outputs": [],
   "source": [
    "strimage = structureimagery"
   ]
  },
  {
   "cell_type": "code",
   "execution_count": 52,
   "metadata": {},
   "outputs": [],
   "source": [
    "str_path_mxd = r'\\\\deqhq1\\tmdl\\tmdl_wr\\midcoast\\GIS\\BacteriaTMDL\\UpperYaquinaRiver\\MapDocs'\n",
    "str_file_mxd = r'Upper Yaquina Near-Stream Structures (scratch).mxd'\n",
    "str_df_zoom_name = r'Zoom to Feature'\n",
    "str_df_state_name = r'Overall Watershed'\n",
    "str_strc_cent = r'PointPotentialStructureCentroids'\n",
    "str_strc_poly = r'Potential Structures'\n",
    "str_strm_line = r'NHD Flowlines'\n",
    "ortho_bm = r'ortho_1-1_1n_s_or041_2014_1.sid'                                                                      \n",
    "\n",
    "str_path_export = r'\\\\deqhq1\\tmdl\\tmdl_wr\\midcoast\\GIS\\BacteriaTMDL\\UpperYaquinaRiver\\python\\structure-imagery\\images'\n",
    "str_file_image_export_prefix = 'strt_'\n",
    "\n",
    "curFID = 36"
   ]
  },
  {
   "cell_type": "code",
   "execution_count": 53,
   "metadata": {},
   "outputs": [],
   "source": [
    "mxd_cur = strimage.get_mxd(str_path_mxd, str_file_mxd)\n",
    "\n",
    "df_zoom = strimage.get_df(mxd_cur, str_df_zoom_name)\n",
    "\n",
    "sel_lyr = strimage.get_sel_layer(mxd_cur, str_strc_cent, df_zoom)\n",
    "\n",
    "strimage.make_not_vis(df_zoom)\n",
    "\n",
    "strimage.make_vis(mxd_cur, df_zoom, [str_strc_poly, str_strc_cent, ortho_bm])\n",
    "\n",
    "strimage.gen_map_image(curFID, sel_lyr, df_zoom, mxd_cur, str_path_export, str_file_image_export_prefix)\n"
   ]
  },
  {
   "cell_type": "code",
   "execution_count": null,
   "metadata": {},
   "outputs": [],
   "source": []
  }
 ],
 "metadata": {
  "kernelspec": {
   "display_name": "Python 2",
   "language": "python",
   "name": "python2"
  },
  "language_info": {
   "codemirror_mode": {
    "name": "ipython",
    "version": 2
   },
   "file_extension": ".py",
   "mimetype": "text/x-python",
   "name": "python",
   "nbconvert_exporter": "python",
   "pygments_lexer": "ipython2",
   "version": "2.7.14"
  }
 },
 "nbformat": 4,
 "nbformat_minor": 2
}
