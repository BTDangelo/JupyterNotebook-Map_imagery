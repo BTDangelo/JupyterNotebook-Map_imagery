{
 "cells": [
  {
   "cell_type": "markdown",
   "metadata": {},
   "source": [
    "# Generate a Map Containing a Single Potential Structure "
   ]
  },
  {
   "cell_type": "markdown",
   "metadata": {},
   "source": [
    "This script generates a map image for one potential structure. The functions are all in the python script named \"structureimagery\". This script is first imported, next the single map script is ran, generating the map image.  "
   ]
  },
  {
   "cell_type": "markdown",
   "metadata": {},
   "source": [
    "### First the Python script that contains all of the functions necessary to run the Single Map Script is imported."
   ]
  },
  {
   "cell_type": "code",
   "execution_count": 17,
   "metadata": {},
   "outputs": [],
   "source": [
    "# %load E:\\GitHub\\structure-imagery\\structureimagery.py\n",
    "from os import path\n",
    "import arcpy\n",
    "\n",
    "arcpy.env.workspace = arcpy.env.scratchGDB\n",
    "\n",
    "\n",
    "def get_mxd(str_path_mxd, str_file_mxd):\n",
    "    if path.isfile(str_path_mxd + \"\\\\\" + str_file_mxd):\n",
    "        mxd = arcpy.mapping.MapDocument(str_path_mxd + \"\\\\\" + str_file_mxd)\n",
    "    else:\n",
    "        mxd = \"can't find file \" + str_file_mxd + \" in folder \" + str_path_mxd\n",
    "    return mxd\n",
    "\n",
    "\n",
    "def get_df(mxd_cur, str_df_name):\n",
    "    df_got = arcpy.mapping.ListDataFrames(mxd_cur, str_df_name)[0]\n",
    "    return df_got\n",
    "\n",
    "\n",
    "def get_sel_layer(mxd_cur, str_poly, df_cur):\n",
    "    lyr = arcpy.mapping.ListLayers(mxd_cur, str_poly, df_cur)[0]                    # BTD Is this listing the first layer (centroid structure)?\n",
    "    return lyr\n",
    "\n",
    "\n",
    "def unique_values(table, field):\n",
    "    with arcpy.da.SearchCursor(table, field) as cursor:\n",
    "        return sorted({row[0] for row in cursor})\n",
    "\n",
    "\n",
    "def make_not_vis(df):\n",
    "    for lyr in df:\n",
    "        if lyr.isGroupLayer:\n",
    "            for lyr_g in lyr.isGroupLayer:\n",
    "                lyr_g.visible = False\n",
    "        else:\n",
    "            lyr.visible = False\n",
    "\n",
    "\n",
    "def make_vis(mxd_cur, df, list_lyr):\n",
    "    for str_lyr in list_lyr:\n",
    "        lyr_cur = arcpy.mapping.ListLayers(mxd_cur, str_lyr, df)[0]\n",
    "        lyr_cur.visible = True\n",
    "        # arcpy.Delete_management(lyr_cur)\n",
    "    arcpy.RefreshTOC()\n",
    "    arcpy.RefreshActiveView()\n",
    "\n",
    "\n",
    "def make_sel(query, str_sel_lyr):\n",
    "    lyr_temp_in = arcpy.CreateScratchName(workspace=arcpy.env.scratchGDB)                                   # BTD In Layer\n",
    "    lyr_temp_sel = arcpy.CreateScratchName(workspace=arcpy.env.scratchGDB)                                  # BTD Out Feature Class?\n",
    "    arcpy.MakeFeatureLayer_management(str_sel_lyr, lyr_temp_in)                                             # BTD Change lyr_temp_in to lyr_temp_sel\n",
    "    arcpy.Select_analysis(lyr_temp_sel, lyr_temp_in, query)                                                 # BTD Swap lyr_temp_sel and lyr_temp_in\n",
    "    return lyr_temp_sel\n",
    "\n",
    "\n",
    "def gen_map_images(my_list, sel_lyr, df_zoom, mxd_cur, str_path_export, str_file_image_export_prefix):\n",
    "    arcpy.env.overwriteOutput = True\n",
    "    for curFID in my_list:\n",
    "        query = '\"FID\" = {}'.format(curFID)\n",
    "        str_new_lyr = make_sel(query, sel_lyr.dataSource)                               # BTD this creates a variable that should select queried centroid\n",
    "        add_lyr = arcpy.mapping.Layer(str_new_lyr)\n",
    "        arcpy.mapping.AddLayer(df_zoom, add_lyr, \"TOP\")\n",
    "        df_zoom.panToExtent(add_lyr.getSelectedExtent())\n",
    "        add_lyr.visible = True\n",
    "        arcpy.RefreshTOC()\n",
    "        arcpy.RefreshActiveView()\n",
    "        arcpy.mapping.ExportToPNG(map_document=mxd_cur, out_png=str_path_export + '\\\\' + str_file_image_export_prefix + '{}'.format(curFID) + '_ext_pg.png')\n",
    "        arcpy.mapping.RemoveLayer(df_zoom, add_lyr)\n",
    "        arcpy.Delete_management(add_lyr)\n",
    "        arcpy.RefreshTOC()\n",
    "        arcpy.RefreshActiveView()\n",
    "        del query, str_new_lyr, add_lyr\n",
    "\n",
    "\n",
    "def gen_map_image(curFID, sel_lyr, df_zoom, mxd_cur, str_path_export, str_file_image_export_prefix):\n",
    "    arcpy.env.overwriteOutput = True\n",
    "    query = \"\\\"FID\\\" = {}\".format(curFID)\n",
    "    # arcpy.SelectLayerByAttribute_management(sel_lyr, \"NEW_SELECTION\", query)                                        # BTD Added\n",
    "    # df_zoom.zoomToSelectedFeatures()                                                                                # BTD Added\n",
    "    str_new_lyr = make_sel(query, sel_lyr.dataSource)                               # BTD this creates a variable for the point structure layer, then creates a temporary feature layer that queries the FID\n",
    "    add_lyr = arcpy.mapping.Layer(str_new_lyr)                                      # BTD Creates the new temporary layer\n",
    "    arcpy.mapping.AddLayer(df_zoom, add_lyr, \"BOTTOM\")                              # BTD adds the temporary layer\n",
    "    # df_zoom.panToExtent(add_lyr.getSelectedExtent())\n",
    "    add_lyr.visible = True\n",
    "    arcpy.RefreshTOC()\n",
    "    arcpy.RefreshActiveView()\n",
    "    arcpy.mapping.ExportToPNG(map_document=mxd_cur, out_png=str_path_export + '\\\\' + str_file_image_export_prefix + '{}'.format(curFID) + '_ext_pg.png')\n",
    "    arcpy.mapping.RemoveLayer(df_zoom, add_lyr)             # BTD Commented out\n",
    "    arcpy.Delete_management(add_lyr)                      # BTD Commented out\n",
    "    arcpy.RefreshTOC()\n",
    "    arcpy.RefreshActiveView()\n"
   ]
  },
  {
   "cell_type": "markdown",
   "metadata": {},
   "source": [
    "## Single Map Script "
   ]
  },
  {
   "cell_type": "code",
   "execution_count": 18,
   "metadata": {},
   "outputs": [],
   "source": [
    "str_path_mxd = r'\\\\deqhq1\\tmdl\\tmdl_wr\\midcoast\\GIS\\BacteriaTMDL\\UpperYaquinaRiver\\MapDocs'\n",
    "str_file_mxd = r'Upper Yaquina Near-Stream Structures (scratch).mxd'\n",
    "str_df_zoom_name = r'Zoom to Feature'\n",
    "str_df_state_name = r'Overall Watershed'\n",
    "str_strc_cent = r'PointPotentialStructureCentroids'\n",
    "str_strc_poly = r'Potential Structures'\n",
    "str_strm_line = r'NHD Flowlines'\n",
    "ortho_bm = r'ortho_1-1_1n_s_or041_2014_1.sid'                                                                      \n",
    "\n",
    "str_path_export = r'\\\\deqhq1\\tmdl\\tmdl_wr\\midcoast\\GIS\\BacteriaTMDL\\UpperYaquinaRiver\\python\\structure-imagery\\images'\n",
    "str_file_image_export_prefix = 'strt_'\n",
    "\n",
    "curFID = 36"
   ]
  },
  {
   "cell_type": "code",
   "execution_count": 19,
   "metadata": {},
   "outputs": [
    {
     "ename": "NameError",
     "evalue": "name 'strimage' is not defined",
     "output_type": "error",
     "traceback": [
      "\u001b[1;31m---------------------------------------------------------------------------\u001b[0m",
      "\u001b[1;31mNameError\u001b[0m                                 Traceback (most recent call last)",
      "\u001b[1;32m<ipython-input-19-e255fdb29e77>\u001b[0m in \u001b[0;36m<module>\u001b[1;34m()\u001b[0m\n\u001b[1;32m----> 1\u001b[1;33m \u001b[0mmxd_cur\u001b[0m \u001b[1;33m=\u001b[0m \u001b[0mstrimage\u001b[0m\u001b[1;33m.\u001b[0m\u001b[0mget_mxd\u001b[0m\u001b[1;33m(\u001b[0m\u001b[0mstr_path_mxd\u001b[0m\u001b[1;33m,\u001b[0m \u001b[0mstr_file_mxd\u001b[0m\u001b[1;33m)\u001b[0m\u001b[1;33m\u001b[0m\u001b[0m\n\u001b[0m\u001b[0;32m      2\u001b[0m \u001b[1;33m\u001b[0m\u001b[0m\n\u001b[0;32m      3\u001b[0m \u001b[0mdf_zoom\u001b[0m \u001b[1;33m=\u001b[0m \u001b[0mstrimage\u001b[0m\u001b[1;33m.\u001b[0m\u001b[0mget_df\u001b[0m\u001b[1;33m(\u001b[0m\u001b[0mmxd_cur\u001b[0m\u001b[1;33m,\u001b[0m \u001b[0mstr_df_zoom_name\u001b[0m\u001b[1;33m)\u001b[0m\u001b[1;33m\u001b[0m\u001b[0m\n\u001b[0;32m      4\u001b[0m \u001b[1;33m\u001b[0m\u001b[0m\n\u001b[0;32m      5\u001b[0m \u001b[0msel_lyr\u001b[0m \u001b[1;33m=\u001b[0m \u001b[0mstrimage\u001b[0m\u001b[1;33m.\u001b[0m\u001b[0mget_sel_layer\u001b[0m\u001b[1;33m(\u001b[0m\u001b[0mmxd_cur\u001b[0m\u001b[1;33m,\u001b[0m \u001b[0mstr_strc_cent\u001b[0m\u001b[1;33m,\u001b[0m \u001b[0mdf_zoom\u001b[0m\u001b[1;33m)\u001b[0m\u001b[1;33m\u001b[0m\u001b[0m\n",
      "\u001b[1;31mNameError\u001b[0m: name 'strimage' is not defined"
     ]
    }
   ],
   "source": [
    "mxd_cur = strimage.get_mxd(str_path_mxd, str_file_mxd)\n",
    "\n",
    "df_zoom = strimage.get_df(mxd_cur, str_df_zoom_name)\n",
    "\n",
    "sel_lyr = strimage.get_sel_layer(mxd_cur, str_strc_cent, df_zoom)\n",
    "\n",
    "strimage.make_not_vis(df_zoom)\n",
    "\n",
    "strimage.make_vis(mxd_cur, df_zoom, [str_strc_poly, str_strc_cent, ortho_bm])\n",
    "\n",
    "strimage.gen_map_image(curFID, sel_lyr, df_zoom, mxd_cur, str_path_export, str_file_image_export_prefix)\n"
   ]
  },
  {
   "cell_type": "code",
   "execution_count": null,
   "metadata": {},
   "outputs": [],
   "source": []
  }
 ],
 "metadata": {
  "kernelspec": {
   "display_name": "Python 2",
   "language": "python",
   "name": "python2"
  },
  "language_info": {
   "codemirror_mode": {
    "name": "ipython",
    "version": 2
   },
   "file_extension": ".py",
   "mimetype": "text/x-python",
   "name": "python",
   "nbconvert_exporter": "python",
   "pygments_lexer": "ipython2",
   "version": "2.7.14"
  }
 },
 "nbformat": 4,
 "nbformat_minor": 2
}
