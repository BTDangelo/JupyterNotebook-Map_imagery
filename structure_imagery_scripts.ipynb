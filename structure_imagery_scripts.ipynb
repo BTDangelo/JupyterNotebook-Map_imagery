{
 "cells": [
  {
   "cell_type": "markdown",
   "metadata": {},
   "source": [
    "# Structure Imagery Script\n",
    "##### This script generates a map image for one potential structure. The functions are all in the python script named \"structureimagery\". This script is first imported, next the single map script is ran, generating the map image."
   ]
  },
  {
   "cell_type": "markdown",
   "metadata": {},
   "source": [
    "* ## Configure Jupyter to Work with ArcPy and R\n",
    "Watch the video below for instructions on one way to configure Jupyter Notebook to work with ArcPy and R. The text that follows the video are my written steps given by this video. "
   ]
  },
  {
   "cell_type": "code",
   "execution_count": 12,
   "metadata": {},
   "outputs": [
    {
     "data": {
      "image/jpeg": "[encoded data removed]",
      "text/html": [
       "\n",
       "        <iframe\n",
       "            width=\"400\"\n",
       "            height=\"300\"\n",
       "            src=\"https://www.youtube.com/embed/wQk-0xETGbc\"\n",
       "            frameborder=\"0\"\n",
       "            allowfullscreen\n",
       "        ></iframe>\n",
       "        "
      ],
      "text/plain": [
       "<IPython.lib.display.YouTubeVideo at 0x8c39ef0>"
      ]
     },
     "execution_count": 12,
     "metadata": {},
     "output_type": "execute_result"
    }
   ],
   "source": [
    "from IPython.lib.display import YouTubeVideo\n",
    "YouTubeVideo('wQk-0xETGbc')"
   ]
  },
  {
   "cell_type": "markdown",
   "metadata": {},
   "source": [
    "* ### Configure Anaconda for use with DS\n",
    "Follow the two steps below, first entering code and inserting the version of each that you have, then you will enter Y for yes to install packages"
   ]
  },
  {
   "cell_type": "markdown",
   "metadata": {},
   "source": [
    "   #### Open Administrator Anaconda command prompt , type codes below to install packages \n",
    "1.) Type: conda create -n arc105 python = ENTER VERSION numpy = ENTER VERSION matplotlib = ENTER VERSION pyparsingxlrd xlwt"
   ]
  },
  {
   "cell_type": "markdown",
   "metadata": {},
   "source": [
    "2.) Type: Y"
   ]
  },
  {
   "cell_type": "markdown",
   "metadata": {},
   "source": [
    "* ### Configure Anaconda to See ArcGIS and visa versa\n",
    "##### This is what I did step by step"
   ]
  },
  {
   "cell_type": "markdown",
   "metadata": {},
   "source": [
    "#### 1.\tFind Site Packages Folder inside hard disk folder when ArcGIS installs its Python version\n",
    "             i.\tC:\\Python27\\ArcGISx6410.5\\Lib\\site-packages\n",
    "#### 2.\tCopy Desktop pth file \n",
    "             i.\tDesktop10.5, mine was DTBGGP64.pth \n",
    "#### 3.\tOpen Notepad\n",
    "             i.\tPaste file path to site packages folder in anaconda \n",
    "                     1.\tC:\\Users\\bdangel\\AppData\\Local\\Continuum\\anaconda2\\envs\\arc105\\Lib\\site-packages\n",
    "             ii.\tCopy the pathfile and paste into Notebook\n",
    "#### 4.\tGo back to folder that contains desktop10.5 path file\n",
    "             i.\tDTBGGP64.pth\n",
    "             ii.\tCopy this .pth file and paste into anaconda installation folder \n",
    "                     1.\tC:\\Users\\bdangel\\AppData\\Local\\Continuum\\anaconda2\n",
    "#### 5.\tTest if Jupyter can see ArcPy\n",
    "             i.\tOpen Command Prompt\n",
    "             ii.\t$ activate arc105\n",
    "             iii.\t$ jupyter notebook – this opens jupyter notebook\n",
    "#### 6.\tStart a new notebook, type import arcpy\n"
   ]
  },
  {
   "cell_type": "markdown",
   "metadata": {},
   "source": [
    "## Structure Imagery Functions\n",
    "The functions below are used in the **single_map_script** which is a script that generates a map image of one potential structure. "
   ]
  },
  {
   "cell_type": "code",
   "execution_count": null,
   "metadata": {},
   "outputs": [],
   "source": [
    "from os import path\n",
    "import arcpy\n",
    "\n",
    "arcpy.env.workspace = arcpy.env.scratchGDB"
   ]
  },
  {
   "cell_type": "markdown",
   "metadata": {},
   "source": [
    "###  Locate map files "
   ]
  },
  {
   "cell_type": "code",
   "execution_count": null,
   "metadata": {},
   "outputs": [],
   "source": [
    "def get_mxd(str_path_mxd, str_file_mxd):\n",
    "    if path.isfile(str_path_mxd + \"\\\\\" + str_file_mxd):\n",
    "        mxd = arcpy.mapping.MapDocument(str_path_mxd + \"\\\\\" + str_file_mxd)\n",
    "    else:\n",
    "        mxd = \"can't find file \" + str_file_mxd + \" in folder \" + str_path_mxd\n",
    "    return mxd"
   ]
  },
  {
   "cell_type": "markdown",
   "metadata": {},
   "source": [
    "### Locate dataframe that includes potential structure layer "
   ]
  },
  {
   "cell_type": "code",
   "execution_count": 3,
   "metadata": {},
   "outputs": [],
   "source": [
    "def get_df(mxd_cur, str_df_name):\n",
    "    df_got = arcpy.mapping.ListDataFrames(mxd_cur, str_df_name)[0]\n",
    "    return df_got"
   ]
  },
  {
   "cell_type": "markdown",
   "metadata": {},
   "source": [
    "### Return Python list of potential structures layer "
   ]
  },
  {
   "cell_type": "code",
   "execution_count": 16,
   "metadata": {},
   "outputs": [],
   "source": [
    "def get_sel_layer(mxd_cur, str_poly, df_cur):\n",
    "    lyr = arcpy.mapping.ListLayers(mxd_cur, str_poly, df_cur)[0]                   \n",
    "    return lyr"
   ]
  },
  {
   "cell_type": "markdown",
   "metadata": {},
   "source": [
    "### Return a set of sorted, unique field values "
   ]
  },
  {
   "cell_type": "code",
   "execution_count": 4,
   "metadata": {},
   "outputs": [],
   "source": [
    "def unique_values(table, field):\n",
    "   with arcpy.da.SearchCursor(table, field) as cursor:\n",
    "        return sorted({row[0] for row in cursor})"
   ]
  },
  {
   "cell_type": "markdown",
   "metadata": {},
   "source": [
    "### Turn off visibility for all layers "
   ]
  },
  {
   "cell_type": "code",
   "execution_count": 5,
   "metadata": {},
   "outputs": [],
   "source": [
    "def make_not_vis(df):\n",
    "    for lyr in df:\n",
    "        if lyr.isGroupLayer:\n",
    "            for lyr_g in lyr.isGroupLayer:\n",
    "                lyr_g.visible = False\n",
    "        else:\n",
    "            lyr.visible = False"
   ]
  },
  {
   "cell_type": "markdown",
   "metadata": {},
   "source": [
    "### Turn on visibility for selected layer(s)"
   ]
  },
  {
   "cell_type": "code",
   "execution_count": 6,
   "metadata": {},
   "outputs": [],
   "source": [
    "def make_vis(mxd_cur, df, list_lyr):\n",
    "    for str_lyr in list_lyr:\n",
    "        lyr_cur = arcpy.mapping.ListLayers(mxd_cur, str_lyr, df)[0]\n",
    "        lyr_cur.visible = True\n",
    "    arcpy.RefreshTOC()\n",
    "    arcpy.RefreshActiveView()\n"
   ]
  },
  {
   "cell_type": "markdown",
   "metadata": {},
   "source": [
    "### Create temporary layer that has been selected "
   ]
  },
  {
   "cell_type": "code",
   "execution_count": 7,
   "metadata": {},
   "outputs": [],
   "source": [
    "def make_sel(query, str_sel_lyr):\n",
    "    lyr_temp_in = arcpy.CreateScratchName(workspace=arcpy.env.scratchGDB)                                  \n",
    "    lyr_temp_sel = arcpy.CreateScratchName(workspace=arcpy.env.scratchGDB)                                 \n",
    "    arcpy.MakeFeatureLayer_management(str_sel_lyr, lyr_temp_in)                                             \n",
    "    arcpy.Select_analysis(lyr_temp_sel, lyr_temp_in, query)                                                 \n",
    "    return lyr_temp_sel"
   ]
  },
  {
   "cell_type": "markdown",
   "metadata": {},
   "source": [
    "### Loop through all structures and generate map images"
   ]
  },
  {
   "cell_type": "code",
   "execution_count": 8,
   "metadata": {},
   "outputs": [],
   "source": [
    "def gen_map_images(my_list, sel_lyr, df_zoom, mxd_cur, str_path_export, str_file_image_export_prefix):\n",
    "    arcpy.env.overwriteOutput = True\n",
    "    for curFID in my_list:\n",
    "        query = '\"FID\" = {}'.format(curFID)\n",
    "        str_new_lyr = make_sel(query, sel_lyr.dataSource)                              \n",
    "        add_lyr = arcpy.mapping.Layer(str_new_lyr)\n",
    "        arcpy.mapping.AddLayer(df_zoom, add_lyr, \"TOP\")\n",
    "        df_zoom.panToExtent(add_lyr.getSelectedExtent())\n",
    "        add_lyr.visible = True\n",
    "        arcpy.RefreshTOC()\n",
    "        arcpy.RefreshActiveView()\n",
    "        arcpy.mapping.ExportToPNG(map_document=mxd_cur, out_png=str_path_export + '\\\\' + str_file_image_export_prefix + '{}'.format(curFID) + '_ext_pg.png')\n",
    "        arcpy.mapping.RemoveLayer(df_zoom, add_lyr)\n",
    "        arcpy.Delete_management(add_lyr)\n",
    "        arcpy.RefreshTOC()\n",
    "        arcpy.RefreshActiveView()\n",
    "        del query, str_new_lyr, add_lyr"
   ]
  },
  {
   "cell_type": "markdown",
   "metadata": {},
   "source": [
    "### Generate map image for one structure "
   ]
  },
  {
   "cell_type": "code",
   "execution_count": 22,
   "metadata": {},
   "outputs": [],
   "source": [
    "def gen_map_image(curFID, sel_lyr, df_zoom, mxd_cur):\n",
    "    arcpy.env.overwriteOutput = True\n",
    "    query = \"\\\"FID\\\" = {}\".format(curFID)                                                                            \n",
    "    str_new_lyr = make_sel(query, sel_lyr.dataSource)                             \n",
    "    add_lyr = arcpy.mapping.Layer(str_new_lyr)                                     \n",
    "    arcpy.mapping.AddLayer(df_zoom, add_lyr, \"BOTTOM\")                              \n",
    "    # df_zoom.panToExtent(add_lyr.getSelectedExtent())\n",
    "    add_lyr.visible = True\n",
    "    arcpy.RefreshTOC()\n",
    "    arcpy.RefreshActiveView()\n",
    "    # arcpy.mapping.ExportToPNG(map_document=mxd_cur, out_png=str_path_export + '\\\\' + str_file_image_export_prefix + '{}'.format(curFID) + '_ext_pg.png')\n",
    "    arcpy.mapping.RemoveLayer(df_zoom, add_lyr)         \n",
    "    arcpy.Delete_management(add_lyr)                    \n",
    "    arcpy.RefreshTOC()\n",
    "    arcpy.RefreshActiveView()\n"
   ]
  },
  {
   "cell_type": "markdown",
   "metadata": {},
   "source": [
    "Here I added the Single Map script. First I enetered the variables. I then added the functions used individually. Next I would like to figure out how to show the map image in the notebok."
   ]
  },
  {
   "cell_type": "markdown",
   "metadata": {},
   "source": [
    "# Single Map Script "
   ]
  },
  {
   "cell_type": "markdown",
   "metadata": {},
   "source": [
    "### Variables "
   ]
  },
  {
   "cell_type": "code",
   "execution_count": 23,
   "metadata": {},
   "outputs": [],
   "source": [
    "str_path_mxd = r'\\\\deqhq1\\tmdl\\tmdl_wr\\midcoast\\GIS\\BacteriaTMDL\\UpperYaquinaRiver\\MapDocs'\n",
    "str_file_mxd = r'Upper Yaquina Near-Stream Structures (scratch).mxd'\n",
    "str_df_zoom_name = r'Zoom to Feature'\n",
    "str_df_state_name = r'Overall Watershed'\n",
    "str_strc_cent = r'PointPotentialStructureCentroids'\n",
    "str_strc_poly = r'Potential Structures'\n",
    "str_strm_line = r'NHD Flowlines'\n",
    "ortho_bm = r'ortho_1-1_1n_s_or041_2014_1.sid'                                                                      \n",
    "\n",
    "# str_path_export = r'\\\\deqhq1\\tmdl\\tmdl_wr\\midcoast\\GIS\\BacteriaTMDL\\UpperYaquinaRiver\\python\\structure-imagery\\images'\n",
    "# str_file_image_export_prefix = 'strt_'\n",
    "\n",
    "curFID = 36"
   ]
  },
  {
   "cell_type": "markdown",
   "metadata": {},
   "source": [
    "### Locate .mxd file "
   ]
  },
  {
   "cell_type": "code",
   "execution_count": 24,
   "metadata": {},
   "outputs": [],
   "source": [
    "mxd_cur = get_mxd(str_path_mxd, str_file_mxd)"
   ]
  },
  {
   "cell_type": "markdown",
   "metadata": {},
   "source": [
    "### Locate dataframe containing potential structure layer "
   ]
  },
  {
   "cell_type": "code",
   "execution_count": 25,
   "metadata": {},
   "outputs": [],
   "source": [
    "df_zoom = get_df(mxd_cur, str_df_zoom_name)"
   ]
  },
  {
   "cell_type": "markdown",
   "metadata": {},
   "source": [
    "### Return potential structure layer "
   ]
  },
  {
   "cell_type": "code",
   "execution_count": 26,
   "metadata": {},
   "outputs": [],
   "source": [
    "sel_lyr = get_sel_layer(mxd_cur, str_strc_cent, df_zoom)"
   ]
  },
  {
   "cell_type": "markdown",
   "metadata": {},
   "source": [
    "### Turn off visibility for all layers "
   ]
  },
  {
   "cell_type": "code",
   "execution_count": 27,
   "metadata": {},
   "outputs": [],
   "source": [
    "make_not_vis(df_zoom)"
   ]
  },
  {
   "cell_type": "markdown",
   "metadata": {},
   "source": [
    "### Turn on visibility for selected layers"
   ]
  },
  {
   "cell_type": "code",
   "execution_count": 28,
   "metadata": {},
   "outputs": [],
   "source": [
    "make_vis(mxd_cur, df_zoom, [str_strc_poly, str_strc_cent, ortho_bm])"
   ]
  },
  {
   "cell_type": "markdown",
   "metadata": {},
   "source": [
    "### Generate map image for selected structure "
   ]
  },
  {
   "cell_type": "code",
   "execution_count": 31,
   "metadata": {},
   "outputs": [],
   "source": [
    "gen_map_image(curFID, sel_lyr, df_zoom, mxd_cur)"
   ]
  }
 ],
 "metadata": {
  "kernelspec": {
   "display_name": "Python 2",
   "language": "python",
   "name": "python2"
  },
  "language_info": {
   "codemirror_mode": {
    "name": "ipython",
    "version": 2
   },
   "file_extension": ".py",
   "mimetype": "text/x-python",
   "name": "python",
   "nbconvert_exporter": "python",
   "pygments_lexer": "ipython2",
   "version": "2.7.14"
  }
 },
 "nbformat": 4,
 "nbformat_minor": 2
}
